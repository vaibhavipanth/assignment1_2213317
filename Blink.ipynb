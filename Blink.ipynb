{
  "nbformat": 4,
  "nbformat_minor": 0,
  "metadata": {
    "colab": {
      "provenance": []
    },
    "kernelspec": {
      "name": "python3",
      "display_name": "Python 3"
    },
    "language_info": {
      "name": "python"
    }
  },
  "cells": [
    {
      "cell_type": "code",
      "execution_count": null,
      "metadata": {
        "id": "VQC3Ci6yEWtR"
      },
      "outputs": [],
      "source": [
        "import pandas as pd\n",
        "\n",
        "import numpy as np\n",
        "\n"
      ]
    },
    {
      "cell_type": "code",
      "source": [
        "umb=pd.read_csv(\"/content/drive/MyDrive/MLL/blink.csv\")"
      ],
      "metadata": {
        "id": "TO93hgzTPYCu"
      },
      "execution_count": null,
      "outputs": []
    },
    {
      "cell_type": "markdown",
      "source": [
        ".head---1st 5 rows\n",
        ".info---coloum names ,head\n",
        ".describe"
      ],
      "metadata": {
        "id": "2g-En4vWRj5G"
      }
    },
    {
      "cell_type": "code",
      "source": [
        "umb.head()"
      ],
      "metadata": {
        "colab": {
          "base_uri": "https://localhost:8080/",
          "height": 206
        },
        "id": "Uqe1bsu-RRTd",
        "outputId": "2c111a92-2724-480b-966b-116a20101c9a"
      },
      "execution_count": null,
      "outputs": [
        {
          "output_type": "execute_result",
          "data": {
            "text/plain": [
              "  Unnamed: 0 Unnamed: 1 Unnamed: 2 Purpose: Dumping data Unnamed: 4  \\\n",
              "0         id   anchorID      tagID            sequenceID        pan   \n",
              "1          1   ANCH0001   TAG00001                     0          0   \n",
              "2          2   ANCH0004   TAG00001                     0          0   \n",
              "3          3   ANCH0002   TAG00001                     0          0   \n",
              "4          4   ANCH0003   TAG00001                     0          0   \n",
              "\n",
              "       Unnamed: 5    Unnamed: 6     Unnamed: 7  \n",
              "0  processed_flag  timestampToA  Timestamp ToA  \n",
              "1               1    7.2848E+11   728480463493  \n",
              "2               1    7.2848E+11   728480463235  \n",
              "3               1    7.2848E+11   728480462804  \n",
              "4               1    7.2848E+11   728480463013  "
            ],
            "text/html": [
              "\n",
              "  <div id=\"df-dd1f95c9-b928-451e-a60e-511093cfed40\" class=\"colab-df-container\">\n",
              "    <div>\n",
              "<style scoped>\n",
              "    .dataframe tbody tr th:only-of-type {\n",
              "        vertical-align: middle;\n",
              "    }\n",
              "\n",
              "    .dataframe tbody tr th {\n",
              "        vertical-align: top;\n",
              "    }\n",
              "\n",
              "    .dataframe thead th {\n",
              "        text-align: right;\n",
              "    }\n",
              "</style>\n",
              "<table border=\"1\" class=\"dataframe\">\n",
              "  <thead>\n",
              "    <tr style=\"text-align: right;\">\n",
              "      <th></th>\n",
              "      <th>Unnamed: 0</th>\n",
              "      <th>Unnamed: 1</th>\n",
              "      <th>Unnamed: 2</th>\n",
              "      <th>Purpose: Dumping data</th>\n",
              "      <th>Unnamed: 4</th>\n",
              "      <th>Unnamed: 5</th>\n",
              "      <th>Unnamed: 6</th>\n",
              "      <th>Unnamed: 7</th>\n",
              "    </tr>\n",
              "  </thead>\n",
              "  <tbody>\n",
              "    <tr>\n",
              "      <th>0</th>\n",
              "      <td>id</td>\n",
              "      <td>anchorID</td>\n",
              "      <td>tagID</td>\n",
              "      <td>sequenceID</td>\n",
              "      <td>pan</td>\n",
              "      <td>processed_flag</td>\n",
              "      <td>timestampToA</td>\n",
              "      <td>Timestamp ToA</td>\n",
              "    </tr>\n",
              "    <tr>\n",
              "      <th>1</th>\n",
              "      <td>1</td>\n",
              "      <td>ANCH0001</td>\n",
              "      <td>TAG00001</td>\n",
              "      <td>0</td>\n",
              "      <td>0</td>\n",
              "      <td>1</td>\n",
              "      <td>7.2848E+11</td>\n",
              "      <td>728480463493</td>\n",
              "    </tr>\n",
              "    <tr>\n",
              "      <th>2</th>\n",
              "      <td>2</td>\n",
              "      <td>ANCH0004</td>\n",
              "      <td>TAG00001</td>\n",
              "      <td>0</td>\n",
              "      <td>0</td>\n",
              "      <td>1</td>\n",
              "      <td>7.2848E+11</td>\n",
              "      <td>728480463235</td>\n",
              "    </tr>\n",
              "    <tr>\n",
              "      <th>3</th>\n",
              "      <td>3</td>\n",
              "      <td>ANCH0002</td>\n",
              "      <td>TAG00001</td>\n",
              "      <td>0</td>\n",
              "      <td>0</td>\n",
              "      <td>1</td>\n",
              "      <td>7.2848E+11</td>\n",
              "      <td>728480462804</td>\n",
              "    </tr>\n",
              "    <tr>\n",
              "      <th>4</th>\n",
              "      <td>4</td>\n",
              "      <td>ANCH0003</td>\n",
              "      <td>TAG00001</td>\n",
              "      <td>0</td>\n",
              "      <td>0</td>\n",
              "      <td>1</td>\n",
              "      <td>7.2848E+11</td>\n",
              "      <td>728480463013</td>\n",
              "    </tr>\n",
              "  </tbody>\n",
              "</table>\n",
              "</div>\n",
              "    <div class=\"colab-df-buttons\">\n",
              "\n",
              "  <div class=\"colab-df-container\">\n",
              "    <button class=\"colab-df-convert\" onclick=\"convertToInteractive('df-dd1f95c9-b928-451e-a60e-511093cfed40')\"\n",
              "            title=\"Convert this dataframe to an interactive table.\"\n",
              "            style=\"display:none;\">\n",
              "\n",
              "  <svg xmlns=\"http://www.w3.org/2000/svg\" height=\"24px\" viewBox=\"0 -960 960 960\">\n",
              "    <path d=\"M120-120v-720h720v720H120Zm60-500h600v-160H180v160Zm220 220h160v-160H400v160Zm0 220h160v-160H400v160ZM180-400h160v-160H180v160Zm440 0h160v-160H620v160ZM180-180h160v-160H180v160Zm440 0h160v-160H620v160Z\"/>\n",
              "  </svg>\n",
              "    </button>\n",
              "\n",
              "  <style>\n",
              "    .colab-df-container {\n",
              "      display:flex;\n",
              "      gap: 12px;\n",
              "    }\n",
              "\n",
              "    .colab-df-convert {\n",
              "      background-color: #E8F0FE;\n",
              "      border: none;\n",
              "      border-radius: 50%;\n",
              "      cursor: pointer;\n",
              "      display: none;\n",
              "      fill: #1967D2;\n",
              "      height: 32px;\n",
              "      padding: 0 0 0 0;\n",
              "      width: 32px;\n",
              "    }\n",
              "\n",
              "    .colab-df-convert:hover {\n",
              "      background-color: #E2EBFA;\n",
              "      box-shadow: 0px 1px 2px rgba(60, 64, 67, 0.3), 0px 1px 3px 1px rgba(60, 64, 67, 0.15);\n",
              "      fill: #174EA6;\n",
              "    }\n",
              "\n",
              "    .colab-df-buttons div {\n",
              "      margin-bottom: 4px;\n",
              "    }\n",
              "\n",
              "    [theme=dark] .colab-df-convert {\n",
              "      background-color: #3B4455;\n",
              "      fill: #D2E3FC;\n",
              "    }\n",
              "\n",
              "    [theme=dark] .colab-df-convert:hover {\n",
              "      background-color: #434B5C;\n",
              "      box-shadow: 0px 1px 3px 1px rgba(0, 0, 0, 0.15);\n",
              "      filter: drop-shadow(0px 1px 2px rgba(0, 0, 0, 0.3));\n",
              "      fill: #FFFFFF;\n",
              "    }\n",
              "  </style>\n",
              "\n",
              "    <script>\n",
              "      const buttonEl =\n",
              "        document.querySelector('#df-dd1f95c9-b928-451e-a60e-511093cfed40 button.colab-df-convert');\n",
              "      buttonEl.style.display =\n",
              "        google.colab.kernel.accessAllowed ? 'block' : 'none';\n",
              "\n",
              "      async function convertToInteractive(key) {\n",
              "        const element = document.querySelector('#df-dd1f95c9-b928-451e-a60e-511093cfed40');\n",
              "        const dataTable =\n",
              "          await google.colab.kernel.invokeFunction('convertToInteractive',\n",
              "                                                    [key], {});\n",
              "        if (!dataTable) return;\n",
              "\n",
              "        const docLinkHtml = 'Like what you see? Visit the ' +\n",
              "          '<a target=\"_blank\" href=https://colab.research.google.com/notebooks/data_table.ipynb>data table notebook</a>'\n",
              "          + ' to learn more about interactive tables.';\n",
              "        element.innerHTML = '';\n",
              "        dataTable['output_type'] = 'display_data';\n",
              "        await google.colab.output.renderOutput(dataTable, element);\n",
              "        const docLink = document.createElement('div');\n",
              "        docLink.innerHTML = docLinkHtml;\n",
              "        element.appendChild(docLink);\n",
              "      }\n",
              "    </script>\n",
              "  </div>\n",
              "\n",
              "\n",
              "<div id=\"df-fcfc8253-6425-4fc4-b3a2-d3a8c2f1daaa\">\n",
              "  <button class=\"colab-df-quickchart\" onclick=\"quickchart('df-fcfc8253-6425-4fc4-b3a2-d3a8c2f1daaa')\"\n",
              "            title=\"Suggest charts\"\n",
              "            style=\"display:none;\">\n",
              "\n",
              "<svg xmlns=\"http://www.w3.org/2000/svg\" height=\"24px\"viewBox=\"0 0 24 24\"\n",
              "     width=\"24px\">\n",
              "    <g>\n",
              "        <path d=\"M19 3H5c-1.1 0-2 .9-2 2v14c0 1.1.9 2 2 2h14c1.1 0 2-.9 2-2V5c0-1.1-.9-2-2-2zM9 17H7v-7h2v7zm4 0h-2V7h2v10zm4 0h-2v-4h2v4z\"/>\n",
              "    </g>\n",
              "</svg>\n",
              "  </button>\n",
              "\n",
              "<style>\n",
              "  .colab-df-quickchart {\n",
              "      --bg-color: #E8F0FE;\n",
              "      --fill-color: #1967D2;\n",
              "      --hover-bg-color: #E2EBFA;\n",
              "      --hover-fill-color: #174EA6;\n",
              "      --disabled-fill-color: #AAA;\n",
              "      --disabled-bg-color: #DDD;\n",
              "  }\n",
              "\n",
              "  [theme=dark] .colab-df-quickchart {\n",
              "      --bg-color: #3B4455;\n",
              "      --fill-color: #D2E3FC;\n",
              "      --hover-bg-color: #434B5C;\n",
              "      --hover-fill-color: #FFFFFF;\n",
              "      --disabled-bg-color: #3B4455;\n",
              "      --disabled-fill-color: #666;\n",
              "  }\n",
              "\n",
              "  .colab-df-quickchart {\n",
              "    background-color: var(--bg-color);\n",
              "    border: none;\n",
              "    border-radius: 50%;\n",
              "    cursor: pointer;\n",
              "    display: none;\n",
              "    fill: var(--fill-color);\n",
              "    height: 32px;\n",
              "    padding: 0;\n",
              "    width: 32px;\n",
              "  }\n",
              "\n",
              "  .colab-df-quickchart:hover {\n",
              "    background-color: var(--hover-bg-color);\n",
              "    box-shadow: 0 1px 2px rgba(60, 64, 67, 0.3), 0 1px 3px 1px rgba(60, 64, 67, 0.15);\n",
              "    fill: var(--button-hover-fill-color);\n",
              "  }\n",
              "\n",
              "  .colab-df-quickchart-complete:disabled,\n",
              "  .colab-df-quickchart-complete:disabled:hover {\n",
              "    background-color: var(--disabled-bg-color);\n",
              "    fill: var(--disabled-fill-color);\n",
              "    box-shadow: none;\n",
              "  }\n",
              "\n",
              "  .colab-df-spinner {\n",
              "    border: 2px solid var(--fill-color);\n",
              "    border-color: transparent;\n",
              "    border-bottom-color: var(--fill-color);\n",
              "    animation:\n",
              "      spin 1s steps(1) infinite;\n",
              "  }\n",
              "\n",
              "  @keyframes spin {\n",
              "    0% {\n",
              "      border-color: transparent;\n",
              "      border-bottom-color: var(--fill-color);\n",
              "      border-left-color: var(--fill-color);\n",
              "    }\n",
              "    20% {\n",
              "      border-color: transparent;\n",
              "      border-left-color: var(--fill-color);\n",
              "      border-top-color: var(--fill-color);\n",
              "    }\n",
              "    30% {\n",
              "      border-color: transparent;\n",
              "      border-left-color: var(--fill-color);\n",
              "      border-top-color: var(--fill-color);\n",
              "      border-right-color: var(--fill-color);\n",
              "    }\n",
              "    40% {\n",
              "      border-color: transparent;\n",
              "      border-right-color: var(--fill-color);\n",
              "      border-top-color: var(--fill-color);\n",
              "    }\n",
              "    60% {\n",
              "      border-color: transparent;\n",
              "      border-right-color: var(--fill-color);\n",
              "    }\n",
              "    80% {\n",
              "      border-color: transparent;\n",
              "      border-right-color: var(--fill-color);\n",
              "      border-bottom-color: var(--fill-color);\n",
              "    }\n",
              "    90% {\n",
              "      border-color: transparent;\n",
              "      border-bottom-color: var(--fill-color);\n",
              "    }\n",
              "  }\n",
              "</style>\n",
              "\n",
              "  <script>\n",
              "    async function quickchart(key) {\n",
              "      const quickchartButtonEl =\n",
              "        document.querySelector('#' + key + ' button');\n",
              "      quickchartButtonEl.disabled = true;  // To prevent multiple clicks.\n",
              "      quickchartButtonEl.classList.add('colab-df-spinner');\n",
              "      try {\n",
              "        const charts = await google.colab.kernel.invokeFunction(\n",
              "            'suggestCharts', [key], {});\n",
              "      } catch (error) {\n",
              "        console.error('Error during call to suggestCharts:', error);\n",
              "      }\n",
              "      quickchartButtonEl.classList.remove('colab-df-spinner');\n",
              "      quickchartButtonEl.classList.add('colab-df-quickchart-complete');\n",
              "    }\n",
              "    (() => {\n",
              "      let quickchartButtonEl =\n",
              "        document.querySelector('#df-fcfc8253-6425-4fc4-b3a2-d3a8c2f1daaa button');\n",
              "      quickchartButtonEl.style.display =\n",
              "        google.colab.kernel.accessAllowed ? 'block' : 'none';\n",
              "    })();\n",
              "  </script>\n",
              "</div>\n",
              "\n",
              "    </div>\n",
              "  </div>\n"
            ]
          },
          "metadata": {},
          "execution_count": 10
        }
      ]
    },
    {
      "cell_type": "code",
      "source": [
        "umb.describe\n"
      ],
      "metadata": {
        "colab": {
          "base_uri": "https://localhost:8080/"
        },
        "id": "NN2D6oxOR5Le",
        "outputId": "68340820-94a5-4516-d3b7-6d9e17a7e281"
      },
      "execution_count": null,
      "outputs": [
        {
          "output_type": "execute_result",
          "data": {
            "text/plain": [
              "<bound method NDFrame.describe of     Unnamed: 0 Unnamed: 1 Unnamed: 2 Purpose: Dumping data Unnamed: 4  \\\n",
              "0           id   anchorID      tagID            sequenceID        pan   \n",
              "1            1   ANCH0001   TAG00001                     0          0   \n",
              "2            2   ANCH0004   TAG00001                     0          0   \n",
              "3            3   ANCH0002   TAG00001                     0          0   \n",
              "4            4   ANCH0003   TAG00001                     0          0   \n",
              "..         ...        ...        ...                   ...        ...   \n",
              "604        604   ANCH0003   TAG00001                   162          0   \n",
              "605        605   ANCH0004   TAG00001                   162          0   \n",
              "606        606   ANCH0002   TAG00001                   163          0   \n",
              "607        607   ANCH0004   TAG00001                   163          0   \n",
              "608        608   ANCH0003   TAG00001                   163          0   \n",
              "\n",
              "         Unnamed: 5    Unnamed: 6     Unnamed: 7  \n",
              "0    processed_flag  timestampToA  Timestamp ToA  \n",
              "1                 1    7.2848E+11   728480463493  \n",
              "2                 1    7.2848E+11   728480463235  \n",
              "3                 1    7.2848E+11   728480462804  \n",
              "4                 1    7.2848E+11   728480463013  \n",
              "..              ...           ...            ...  \n",
              "604               0    5.1676E+11   516760178238  \n",
              "605               0    5.1676E+11   516760178331  \n",
              "606               0   5.35464E+11   535464226848  \n",
              "607               0   5.35464E+11   535464226891  \n",
              "608               0   5.35464E+11   535464226896  \n",
              "\n",
              "[609 rows x 8 columns]>"
            ]
          },
          "metadata": {},
          "execution_count": 11
        }
      ]
    },
    {
      "cell_type": "code",
      "source": [
        "umb.info()"
      ],
      "metadata": {
        "colab": {
          "base_uri": "https://localhost:8080/"
        },
        "id": "uKi2jdNTR_FH",
        "outputId": "1bc6f8a0-a8a3-4347-baa7-4d33b70c1f08"
      },
      "execution_count": null,
      "outputs": [
        {
          "output_type": "stream",
          "name": "stdout",
          "text": [
            "<class 'pandas.core.frame.DataFrame'>\n",
            "RangeIndex: 609 entries, 0 to 608\n",
            "Data columns (total 8 columns):\n",
            " #   Column                 Non-Null Count  Dtype \n",
            "---  ------                 --------------  ----- \n",
            " 0   Unnamed: 0             609 non-null    object\n",
            " 1   Unnamed: 1             609 non-null    object\n",
            " 2   Unnamed: 2             609 non-null    object\n",
            " 3   Purpose: Dumping data  609 non-null    object\n",
            " 4   Unnamed: 4             609 non-null    object\n",
            " 5   Unnamed: 5             609 non-null    object\n",
            " 6   Unnamed: 6             609 non-null    object\n",
            " 7   Unnamed: 7             609 non-null    object\n",
            "dtypes: object(8)\n",
            "memory usage: 38.2+ KB\n"
          ]
        }
      ]
    },
    {
      "cell_type": "code",
      "source": [
        "umb.column=umb.iloc[0]"
      ],
      "metadata": {
        "colab": {
          "base_uri": "https://localhost:8080/"
        },
        "id": "FBM97moJW-Sp",
        "outputId": "b945c587-2883-407d-a22a-8dda09df8a60"
      },
      "execution_count": null,
      "outputs": [
        {
          "output_type": "stream",
          "name": "stderr",
          "text": [
            "<ipython-input-17-8927384c448d>:1: UserWarning: Pandas doesn't allow columns to be created via a new attribute name - see https://pandas.pydata.org/pandas-docs/stable/indexing.html#attribute-access\n",
            "  umb.column=umb.iloc[0]\n"
          ]
        }
      ]
    },
    {
      "cell_type": "code",
      "source": [
        "umb=umb.drop(0)"
      ],
      "metadata": {
        "id": "bM_4xRs4XmIF"
      },
      "execution_count": null,
      "outputs": []
    },
    {
      "cell_type": "code",
      "source": [
        "umb.info"
      ],
      "metadata": {
        "colab": {
          "base_uri": "https://localhost:8080/"
        },
        "id": "8ONR6h_iYYcU",
        "outputId": "696dd6b4-9550-420a-b0c6-5645ca778fff"
      },
      "execution_count": null,
      "outputs": [
        {
          "output_type": "execute_result",
          "data": {
            "text/plain": [
              "<bound method DataFrame.info of     Unnamed: 0 Unnamed: 1 Unnamed: 2 Purpose: Dumping data Unnamed: 4  \\\n",
              "1            1   ANCH0001   TAG00001                     0          0   \n",
              "2            2   ANCH0004   TAG00001                     0          0   \n",
              "3            3   ANCH0002   TAG00001                     0          0   \n",
              "4            4   ANCH0003   TAG00001                     0          0   \n",
              "5            5   ANCH0001   TAG00001                     1          0   \n",
              "..         ...        ...        ...                   ...        ...   \n",
              "604        604   ANCH0003   TAG00001                   162          0   \n",
              "605        605   ANCH0004   TAG00001                   162          0   \n",
              "606        606   ANCH0002   TAG00001                   163          0   \n",
              "607        607   ANCH0004   TAG00001                   163          0   \n",
              "608        608   ANCH0003   TAG00001                   163          0   \n",
              "\n",
              "    Unnamed: 5   Unnamed: 6    Unnamed: 7  \n",
              "1            1   7.2848E+11  728480463493  \n",
              "2            1   7.2848E+11  728480463235  \n",
              "3            1   7.2848E+11  728480462804  \n",
              "4            1   7.2848E+11  728480463013  \n",
              "5            1  7.59054E+11  759053775951  \n",
              "..         ...          ...           ...  \n",
              "604          0   5.1676E+11  516760178238  \n",
              "605          0   5.1676E+11  516760178331  \n",
              "606          0  5.35464E+11  535464226848  \n",
              "607          0  5.35464E+11  535464226891  \n",
              "608          0  5.35464E+11  535464226896  \n",
              "\n",
              "[608 rows x 8 columns]>"
            ]
          },
          "metadata": {},
          "execution_count": 19
        }
      ]
    }
  ]
}